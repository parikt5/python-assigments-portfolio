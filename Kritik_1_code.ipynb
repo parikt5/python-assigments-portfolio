{
 "cells": [
  {
   "cell_type": "code",
   "id": "initial_id",
   "metadata": {
    "collapsed": true,
    "ExecuteTime": {
     "end_time": "2024-09-30T12:56:41.799004Z",
     "start_time": "2024-09-30T12:56:41.775102Z"
    }
   },
   "source": [
    "def equation(x):\n",
    "    # Check if x is within the valid interval [0, 1]\n",
    "    if 0 <= x <= 1:\n",
    "        def error(x, n):\n",
    "            # Error bound calculation\n",
    "            return x ** (2 * n + 1) / (2 * n + 1)\n",
    "\n",
    "        # Start with n = 0\n",
    "        n = 0\n",
    "        approximation = 0\n",
    "\n",
    "        # Loop to improve the approximation until the error is less than 0.0001\n",
    "        while True:\n",
    "            term = ((-1) ** n * x ** (2 * n + 1)) / (2 * n + 1)\n",
    "            approximation += term\n",
    "            if error(x, n) < 0.0001:\n",
    "                break\n",
    "            n += 1\n",
    "\n",
    "        # Return the approximation, degree of the polynomial, and error bound\n",
    "        return (approximation, n, error(x, n))\n",
    "\n",
    "    else:\n",
    "        # If x is out of range, return an error message\n",
    "        return \"Error!\"\n",
    "\n",
    "\n",
    "# Test the function on different inputs\n",
    "test_values = [-1, 0, 0.25, 0.5, 0.75, 1]\n",
    "for a in test_values:\n",
    "    print(f\"x = {a}: {equation(a)}\")"
   ],
   "outputs": [
    {
     "name": "stdout",
     "output_type": "stream",
     "text": [
      "x = -1: Error!\n",
      "x = 0: (0.0, 0, 0.0)\n",
      "x = 0.25: (0.24497825985863092, 3, 8.719308035714285e-06)\n",
      "x = 0.5: (0.46363988658910527, 5, 4.438920454545455e-05)\n",
      "x = 0.75: (0.6434813024840855, 11, 5.816761029294689e-05)\n",
      "x = 1: (0.7854481533989477, 5000, 9.999000099990002e-05)\n"
     ]
    }
   ],
   "execution_count": 3
  },
  {
   "metadata": {},
   "cell_type": "code",
   "outputs": [],
   "execution_count": null,
   "source": "",
   "id": "63614ac13f22269b"
  }
 ],
 "metadata": {
  "kernelspec": {
   "display_name": "Python 3",
   "language": "python",
   "name": "python3"
  },
  "language_info": {
   "codemirror_mode": {
    "name": "ipython",
    "version": 2
   },
   "file_extension": ".py",
   "mimetype": "text/x-python",
   "name": "python",
   "nbconvert_exporter": "python",
   "pygments_lexer": "ipython2",
   "version": "2.7.6"
  }
 },
 "nbformat": 4,
 "nbformat_minor": 5
}
